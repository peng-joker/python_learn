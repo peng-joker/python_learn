{
 "cells": [
  {
   "cell_type": "markdown",
   "id": "b5a2a552",
   "metadata": {},
   "source": [
    "# 标题1\n",
    "## 标题2\n",
    "### 标题3\n",
    "#### 标题4\n",
    "##### 标题5\n",
    "###### 标题6\n",
    "\n",
    "### 段落文本\n",
    "这是一段普通的文本。你可以在这里写任何你想说的话。\n",
    "\n",
    "### 加粗和斜体\n",
    "**这是加粗的文本**  \n",
    "*这是斜体的文本*\n",
    "\n",
    "### 无序列表\n",
    "- 项目1\n",
    "- 项目2\n",
    "- 项目3\n",
    "\n",
    "### 有序列表\n",
    "1. 第一项\n",
    "2. 第二项\n",
    "3. 第三项\n",
    "\n",
    "### 代码块\n",
    "```python\n",
    "print(\"Hello, World!\")\n",
    "```\n",
    "\n",
    "### 链接\n",
    "[这是一个链接](https://www.example.com)\n",
    "\n",
    "### 图片\n",
    "![这是一个图片描述](url_to_image)\n",
    "\n",
    "### 分割线\n",
    "---\n",
    "\n",
    "### 引用\n",
    "> 这是一个引用的文本。\n",
    "\n",
    "### 表格\n",
    "| 表头1 | 表头2 |\n",
    "|-------|------|\n",
    "| 行1，列1 | 行1，列2 |\n",
    "| 行2，列1 | 行2，列2 |\n",
    "\n",
    "### 脚注\n",
    "这里是正文内容。[^1]\n",
    "\n",
    "[^1]: 这是第一个脚注的内容。\n",
    "\n",
    "### 高亮\n",
    "==这段文字将被高"
   ]
  },
  {
   "cell_type": "code",
   "execution_count": 2,
   "id": "94c7a5ab",
   "metadata": {},
   "outputs": [
    {
     "name": "stdout",
     "output_type": "stream",
     "text": [
      "1\n"
     ]
    }
   ],
   "source": [
    "a = 1\n",
    "print(a)"
   ]
  },
  {
   "cell_type": "code",
   "execution_count": 3,
   "id": "9ed6b587",
   "metadata": {},
   "outputs": [
    {
     "name": "stdout",
     "output_type": "stream",
     "text": [
      "2\n"
     ]
    }
   ],
   "source": [
    "print(a+1)"
   ]
  }
 ],
 "metadata": {
  "kernelspec": {
   "display_name": "venv (3.11.0)",
   "language": "python",
   "name": "python3"
  },
  "language_info": {
   "codemirror_mode": {
    "name": "ipython",
    "version": 3
   },
   "file_extension": ".py",
   "mimetype": "text/x-python",
   "name": "python",
   "nbconvert_exporter": "python",
   "pygments_lexer": "ipython3",
   "version": "3.11.0"
  }
 },
 "nbformat": 4,
 "nbformat_minor": 5
}
